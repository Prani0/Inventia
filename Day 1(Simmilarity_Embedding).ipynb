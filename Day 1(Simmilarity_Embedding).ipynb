{
 "cells": [
  {
   "cell_type": "code",
   "execution_count": 1,
   "metadata": {},
   "outputs": [],
   "source": [
    "from gensim.models import Word2Vec"
   ]
  },
  {
   "cell_type": "code",
   "execution_count": 2,
   "metadata": {},
   "outputs": [],
   "source": [
    "sentence = (\n",
    "    \"lice was beginning to get very bored. She and her sister were sitting under the trees. \"\n",
    "    \"Her sister was reading, but Alice had nothing to do. Once or twice she looked into her sister’s book, \"\n",
    "    \"but it had no pictures or conversations in it. And what is the use of a book,’ thought Alice, \"\n",
    "    \"‘without pictures or conversations. She tried to think of something to do, but it was a hot day and \"\n",
    "    \"she felt very sleepy and stupid.\"\n",
    ")"
   ]
  },
  {
   "cell_type": "code",
   "execution_count": 3,
   "metadata": {},
   "outputs": [],
   "source": [
    "tokenized_sentence = [sent.split() for sent in sentence.lower().split('. ')]"
   ]
  },
  {
   "cell_type": "code",
   "execution_count": 4,
   "metadata": {},
   "outputs": [
    {
     "data": {
      "text/plain": [
       "[('a', 0.28529223799705505),\n",
       " ('in', 0.270412415266037),\n",
       " ('alice,', 0.25991350412368774),\n",
       " ('she', 0.18884439766407013),\n",
       " ('twice', 0.14232014119625092),\n",
       " ('sister', 0.10754850506782532),\n",
       " ('to', 0.09955450147390366),\n",
       " ('the', 0.09718333184719086),\n",
       " ('but', 0.09647216647863388),\n",
       " ('trees', 0.08679761737585068)]"
      ]
     },
     "execution_count": 4,
     "metadata": {},
     "output_type": "execute_result"
    }
   ],
   "source": [
    "model = Word2Vec(tokenized_sentence,min_count= 1)\n",
    "model.wv.similar_by_word('do')"
   ]
  }
 ],
 "metadata": {
  "kernelspec": {
   "display_name": "Python 3",
   "language": "python",
   "name": "python3"
  },
  "language_info": {
   "codemirror_mode": {
    "name": "ipython",
    "version": 3
   },
   "file_extension": ".py",
   "mimetype": "text/x-python",
   "name": "python",
   "nbconvert_exporter": "python",
   "pygments_lexer": "ipython3",
   "version": "3.11.2"
  }
 },
 "nbformat": 4,
 "nbformat_minor": 2
}
