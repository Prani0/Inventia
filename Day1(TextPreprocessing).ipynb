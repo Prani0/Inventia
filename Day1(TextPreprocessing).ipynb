{
 "cells": [
  {
   "cell_type": "code",
   "execution_count": 12,
   "metadata": {},
   "outputs": [],
   "source": [
    "import nltk\n",
    "from nltk.stem import PorterStemmer\n",
    "from nltk.stem import WordNetLemmatizer\n",
    "from nltk.corpus import stopwords"
   ]
  },
  {
   "cell_type": "code",
   "execution_count": 13,
   "metadata": {},
   "outputs": [],
   "source": [
    "sentence = \"a set of words that is complete in itself, typically containing a subject and predicate, conveying a statement, question, exclamation, or command, and consisting of a main clause and sometimes one or more subordinate clauses. \""
   ]
  },
  {
   "cell_type": "code",
   "execution_count": 14,
   "metadata": {},
   "outputs": [
    {
     "name": "stdout",
     "output_type": "stream",
     "text": [
      "['a set of words that is complete in itself, typically containing a subject and predicate, conveying a statement, question, exclamation, or command, and consisting of a main clause and sometimes one or more subordinate clauses.']\n"
     ]
    }
   ],
   "source": [
    "nltk_sen = nltk.sent_tokenize(sentence)\n",
    "print(nltk_sen)"
   ]
  },
  {
   "cell_type": "code",
   "execution_count": 15,
   "metadata": {},
   "outputs": [
    {
     "name": "stdout",
     "output_type": "stream",
     "text": [
      "['a', 'set', 'of', 'words', 'that', 'is', 'complete', 'in', 'itself', ',', 'typically', 'containing', 'a', 'subject', 'and', 'predicate', ',', 'conveying', 'a', 'statement', ',', 'question', ',', 'exclamation', ',', 'or', 'command', ',', 'and', 'consisting', 'of', 'a', 'main', 'clause', 'and', 'sometimes', 'one', 'or', 'more', 'subordinate', 'clauses', '.']\n"
     ]
    }
   ],
   "source": [
    "nltk_word = nltk.word_tokenize(sentence)\n",
    "print(nltk_word)\n"
   ]
  },
  {
   "cell_type": "code",
   "execution_count": 16,
   "metadata": {},
   "outputs": [
    {
     "name": "stdout",
     "output_type": "stream",
     "text": [
      "['set', 'words', 'complete', ',', 'typically', 'containing', 'subject', 'predicate', ',', 'conveying', 'statement', ',', 'question', ',', 'exclamation', ',', 'command', ',', 'consisting', 'main', 'clause', 'sometimes', 'one', 'subordinate', 'clauses', '.']\n"
     ]
    }
   ],
   "source": [
    "stop_words = set(stopwords.words('english'))\n",
    "filtered_senetence = [w for w in nltk_word if not w.lower() in stop_words]\n",
    "filtered_sentence = []\n",
    "for w in nltk_word:\n",
    "    if w not in stop_words:\n",
    "        filtered_sentence.append(w)\n",
    "print(filtered_sentence)\n"
   ]
  },
  {
   "cell_type": "code",
   "execution_count": 17,
   "metadata": {},
   "outputs": [
    {
     "name": "stdout",
     "output_type": "stream",
     "text": [
      "set  :  set\n",
      "words  :  word\n",
      "complete  :  complet\n",
      ",  :  ,\n",
      "typically  :  typic\n",
      "containing  :  contain\n",
      "subject  :  subject\n",
      "predicate  :  predic\n",
      ",  :  ,\n",
      "conveying  :  convey\n",
      "statement  :  statement\n",
      ",  :  ,\n",
      "question  :  question\n",
      ",  :  ,\n",
      "exclamation  :  exclam\n",
      ",  :  ,\n",
      "command  :  command\n",
      ",  :  ,\n",
      "consisting  :  consist\n",
      "main  :  main\n",
      "clause  :  claus\n",
      "sometimes  :  sometim\n",
      "one  :  one\n",
      "subordinate  :  subordin\n",
      "clauses  :  claus\n",
      ".  :  .\n"
     ]
    }
   ],
   "source": [
    "ps = PorterStemmer()\n",
    "for w in filtered_sentence:\n",
    "    print(w, \" : \", ps.stem(w))"
   ]
  },
  {
   "cell_type": "code",
   "execution_count": 18,
   "metadata": {},
   "outputs": [
    {
     "name": "stdout",
     "output_type": "stream",
     "text": [
      "set  :  set\n",
      "words  :  word\n",
      "complete  :  complete\n",
      ",  :  ,\n",
      "typically  :  typically\n",
      "containing  :  containing\n",
      "subject  :  subject\n",
      "predicate  :  predicate\n",
      ",  :  ,\n",
      "conveying  :  conveying\n",
      "statement  :  statement\n",
      ",  :  ,\n",
      "question  :  question\n",
      ",  :  ,\n",
      "exclamation  :  exclamation\n",
      ",  :  ,\n",
      "command  :  command\n",
      ",  :  ,\n",
      "consisting  :  consisting\n",
      "main  :  main\n",
      "clause  :  clause\n",
      "sometimes  :  sometimes\n",
      "one  :  one\n",
      "subordinate  :  subordinate\n",
      "clauses  :  clause\n",
      ".  :  .\n"
     ]
    }
   ],
   "source": [
    "WL = WordNetLemmatizer()\n",
    "for w in filtered_sentence:\n",
    "    print(w, \" : \", WL.lemmatize(w))"
   ]
  },
  {
   "cell_type": "code",
   "execution_count": 19,
   "metadata": {},
   "outputs": [
    {
     "name": "stdout",
     "output_type": "stream",
     "text": [
      "set word complete , typically containing subject predicate , conveying statement , question , exclamation , command , consisting main clause sometimes one subordinate clause .\n"
     ]
    }
   ],
   "source": [
    "lemmatized_string = ' '.join([WL.lemmatize(words) for words in filtered_sentence])\n",
    " \n",
    "print(lemmatized_string)  "
   ]
  }
 ],
 "metadata": {
  "kernelspec": {
   "display_name": "Python 3",
   "language": "python",
   "name": "python3"
  },
  "language_info": {
   "codemirror_mode": {
    "name": "ipython",
    "version": 3
   },
   "file_extension": ".py",
   "mimetype": "text/x-python",
   "name": "python",
   "nbconvert_exporter": "python",
   "pygments_lexer": "ipython3",
   "version": "3.11.2"
  }
 },
 "nbformat": 4,
 "nbformat_minor": 2
}
